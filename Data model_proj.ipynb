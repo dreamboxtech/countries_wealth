{
 "cells": [
  {
   "cell_type": "code",
   "execution_count": 1,
   "id": "440d662f",
   "metadata": {},
   "outputs": [],
   "source": [
    "import pandas as pd\n",
    "import psycopg2"
   ]
  },
  {
   "cell_type": "code",
   "execution_count": null,
   "id": "735bf8de",
   "metadata": {},
   "outputs": [],
   "source": [
    "def create_db():\n",
    "    \n",
    "    #Connect to database\n",
    "    conn = psycopg2.connect(\"host=127.0.0.1 dbname=postgres user=postgres password=root\")\n",
    "    print(\"Database connection successful!\")\n",
    "    cur = conn.cursor()\n",
    "    conn.set_session(autocommit=True)\n",
    "    \n",
    "    #Set Sparkify database with utf-8\n",
    "    #cur.execute(\"DROP DATABASE IF EXISTS accounts\")\n",
    "    #cur.execute(\"CREATE DATABASE accounts\")\n",
    "    \n",
    "    \n",
    "    #close default db connection\n",
    "    conn.close()\n",
    "    \n",
    "    #Now connect to sparkify db\n",
    "    conn = psycopg2.connect(\"host=127.0.0.1 dbname=accounts user=postgres password=root\")\n",
    "    print(\"New database connection successful!\")\n",
    "    cur = conn.cursor()\n",
    "    #conn.set_session(autocommit=True)\n",
    "    \n",
    "    return cur, conn\n",
    "    \n",
    "    \n",
    "    "
   ]
  },
  {
   "cell_type": "code",
   "execution_count": 10,
   "id": "d077051b",
   "metadata": {},
   "outputs": [],
   "source": [
    "def drop_tables(cur, conn):\n",
    "    for query in drop_table_queries:\n",
    "        cur.execute(query)\n",
    "        conn.commit()        "
   ]
  },
  {
   "cell_type": "code",
   "execution_count": 11,
   "id": "b016a508",
   "metadata": {},
   "outputs": [],
   "source": [
    "def create_tables(cur, conn):\n",
    "    for query in drop_table_queries:\n",
    "        cur.execute(query)\n",
    "        conn.commit()"
   ]
  },
  {
   "cell_type": "code",
   "execution_count": 18,
   "id": "94968abc",
   "metadata": {},
   "outputs": [],
   "source": [
    "dfAC = pd.read_csv(\"data/wealthdata.csv\")"
   ]
  },
  {
   "cell_type": "code",
   "execution_count": null,
   "id": "8e081849",
   "metadata": {
    "scrolled": false
   },
   "outputs": [],
   "source": [
    "dfAC.head()"
   ]
  },
  {
   "cell_type": "code",
   "execution_count": 192,
   "id": "877d6c65",
   "metadata": {},
   "outputs": [],
   "source": [
    "dfAC_clean = dfAC[[\"Series Code\", \"Country Code\", \"1995 [YR1995]\", \"1997 [YR1997]\", \"1999 [YR1999]\"]]"
   ]
  },
  {
   "cell_type": "code",
   "execution_count": 193,
   "id": "01c7f1a3",
   "metadata": {},
   "outputs": [
    {
     "data": {
      "text/html": [
       "<div>\n",
       "<style scoped>\n",
       "    .dataframe tbody tr th:only-of-type {\n",
       "        vertical-align: middle;\n",
       "    }\n",
       "\n",
       "    .dataframe tbody tr th {\n",
       "        vertical-align: top;\n",
       "    }\n",
       "\n",
       "    .dataframe thead th {\n",
       "        text-align: right;\n",
       "    }\n",
       "</style>\n",
       "<table border=\"1\" class=\"dataframe\">\n",
       "  <thead>\n",
       "    <tr style=\"text-align: right;\">\n",
       "      <th></th>\n",
       "      <th>Series Code</th>\n",
       "      <th>Country Code</th>\n",
       "      <th>1995 [YR1995]</th>\n",
       "      <th>1997 [YR1997]</th>\n",
       "      <th>1999 [YR1999]</th>\n",
       "    </tr>\n",
       "  </thead>\n",
       "  <tbody>\n",
       "    <tr>\n",
       "      <th>0</th>\n",
       "      <td>NW.HCA.TO</td>\n",
       "      <td>ALB</td>\n",
       "      <td>44861001529.9015</td>\n",
       "      <td>37131131818.8883</td>\n",
       "      <td>42196257451.8409</td>\n",
       "    </tr>\n",
       "    <tr>\n",
       "      <th>1</th>\n",
       "      <td>NW.HCA.PC</td>\n",
       "      <td>ALB</td>\n",
       "      <td>14072.7858380309</td>\n",
       "      <td>11794.0971021609</td>\n",
       "      <td>13573.2617291556</td>\n",
       "    </tr>\n",
       "    <tr>\n",
       "      <th>2</th>\n",
       "      <td>NW.HCA.FEMP.PC</td>\n",
       "      <td>ALB</td>\n",
       "      <td>3468.85762831714</td>\n",
       "      <td>2868.99731747057</td>\n",
       "      <td>3259.89287632051</td>\n",
       "    </tr>\n",
       "    <tr>\n",
       "      <th>3</th>\n",
       "      <td>NW.HCA.MEMP.PC</td>\n",
       "      <td>ALB</td>\n",
       "      <td>6507.93123327619</td>\n",
       "      <td>5466.6915395155</td>\n",
       "      <td>6492.73039341283</td>\n",
       "    </tr>\n",
       "    <tr>\n",
       "      <th>4</th>\n",
       "      <td>NW.HCA.FEMA.PC</td>\n",
       "      <td>ALB</td>\n",
       "      <td>4893.00627518049</td>\n",
       "      <td>4059.32053470641</td>\n",
       "      <td>4536.97205311183</td>\n",
       "    </tr>\n",
       "  </tbody>\n",
       "</table>\n",
       "</div>"
      ],
      "text/plain": [
       "      Series Code Country Code     1995 [YR1995]     1997 [YR1997]  \\\n",
       "0       NW.HCA.TO          ALB  44861001529.9015  37131131818.8883   \n",
       "1       NW.HCA.PC          ALB  14072.7858380309  11794.0971021609   \n",
       "2  NW.HCA.FEMP.PC          ALB  3468.85762831714  2868.99731747057   \n",
       "3  NW.HCA.MEMP.PC          ALB  6507.93123327619   5466.6915395155   \n",
       "4  NW.HCA.FEMA.PC          ALB  4893.00627518049  4059.32053470641   \n",
       "\n",
       "      1999 [YR1999]  \n",
       "0  42196257451.8409  \n",
       "1  13573.2617291556  \n",
       "2  3259.89287632051  \n",
       "3  6492.73039341283  \n",
       "4  4536.97205311183  "
      ]
     },
     "execution_count": 193,
     "metadata": {},
     "output_type": "execute_result"
    }
   ],
   "source": [
    "dfAC_clean.head()"
   ]
  },
  {
   "cell_type": "code",
   "execution_count": null,
   "id": "afc6a71b",
   "metadata": {
    "scrolled": true
   },
   "outputs": [],
   "source": [
    "#Let's clean up this dataframe!!!\n",
    "print(dfAC_clean.shape)\n",
    "dfAC_clean = dfAC_clean.dropna()\n",
    "for col in dfAC_clean.columns:\n",
    "    dfAC_clean = dfAC_clean[dfAC_clean[col].str.startswith('..') == False]\n",
    "\n",
    "print(dfAC_clean.shape)\n",
    "dfAC_clean.head(50)"
   ]
  },
  {
   "cell_type": "code",
   "execution_count": 111,
   "id": "86c671d9",
   "metadata": {},
   "outputs": [],
   "source": [
    "dfSe = pd.read_csv(\"data/seriesmetadata.csv\")"
   ]
  },
  {
   "cell_type": "code",
   "execution_count": null,
   "id": "de12af5e",
   "metadata": {
    "scrolled": true
   },
   "outputs": [],
   "source": [
    "dfSe.head()"
   ]
  },
  {
   "cell_type": "code",
   "execution_count": 115,
   "id": "ee105612",
   "metadata": {},
   "outputs": [],
   "source": [
    "dfSe_clean = dfSe.drop(columns = [\"Previous Indicator Code\", \"Previous Indicator Name\"])\n",
    "dfSe_clean.rename(columns = {\"Code\":\"Series Code\"}, inplace = True) #Named 'Series Code' in other dataset"
   ]
  },
  {
   "cell_type": "code",
   "execution_count": 116,
   "id": "a35ba453",
   "metadata": {},
   "outputs": [
    {
     "data": {
      "text/html": [
       "<div>\n",
       "<style scoped>\n",
       "    .dataframe tbody tr th:only-of-type {\n",
       "        vertical-align: middle;\n",
       "    }\n",
       "\n",
       "    .dataframe tbody tr th {\n",
       "        vertical-align: top;\n",
       "    }\n",
       "\n",
       "    .dataframe thead th {\n",
       "        text-align: right;\n",
       "    }\n",
       "</style>\n",
       "<table border=\"1\" class=\"dataframe\">\n",
       "  <thead>\n",
       "    <tr style=\"text-align: right;\">\n",
       "      <th></th>\n",
       "      <th>Series Code</th>\n",
       "      <th>Indicator Name</th>\n",
       "      <th>Long definition</th>\n",
       "      <th>Source</th>\n",
       "      <th>Topic</th>\n",
       "      <th>Unit of measure</th>\n",
       "      <th>Periodicity</th>\n",
       "      <th>Reference period</th>\n",
       "      <th>Statistical concept and methodology</th>\n",
       "    </tr>\n",
       "  </thead>\n",
       "  <tbody>\n",
       "    <tr>\n",
       "      <th>0</th>\n",
       "      <td>NW.HCA.TO</td>\n",
       "      <td>Human capital (constant 2018 US$)</td>\n",
       "      <td>Human capital is computed as the present value...</td>\n",
       "      <td>World Bank. 2021. The Changing Wealth of Natio...</td>\n",
       "      <td>Human capital</td>\n",
       "      <td>Constant 2018 US$</td>\n",
       "      <td>Annual</td>\n",
       "      <td>1995-2018</td>\n",
       "      <td>Total wealth is calculated by summing up estim...</td>\n",
       "    </tr>\n",
       "    <tr>\n",
       "      <th>1</th>\n",
       "      <td>NW.HCA.PC</td>\n",
       "      <td>Human capital per capita (constant 2018 US$)</td>\n",
       "      <td>Human capital is computed as the present value...</td>\n",
       "      <td>World Bank. 2021. The Changing Wealth of Natio...</td>\n",
       "      <td>Human capital</td>\n",
       "      <td>Constant 2018 US$</td>\n",
       "      <td>Annual</td>\n",
       "      <td>1995-2018</td>\n",
       "      <td>Total wealth is calculated by summing up estim...</td>\n",
       "    </tr>\n",
       "    <tr>\n",
       "      <th>2</th>\n",
       "      <td>NW.HCA.FEMP.PC</td>\n",
       "      <td>Human capital per capita, employed female (con...</td>\n",
       "      <td>Human capital is computed as the present value...</td>\n",
       "      <td>World Bank. 2021. The Changing Wealth of Natio...</td>\n",
       "      <td>Human capital</td>\n",
       "      <td>Constant 2018 US$</td>\n",
       "      <td>Annual</td>\n",
       "      <td>1995-2018</td>\n",
       "      <td>Total wealth is calculated by summing up estim...</td>\n",
       "    </tr>\n",
       "    <tr>\n",
       "      <th>3</th>\n",
       "      <td>NW.HCA.MEMP.PC</td>\n",
       "      <td>Human capital per capita, employed male (const...</td>\n",
       "      <td>Human capital is computed as the present value...</td>\n",
       "      <td>World Bank. 2021. The Changing Wealth of Natio...</td>\n",
       "      <td>Human capital</td>\n",
       "      <td>Constant 2018 US$</td>\n",
       "      <td>Annual</td>\n",
       "      <td>1995-2018</td>\n",
       "      <td>Total wealth is calculated by summing up estim...</td>\n",
       "    </tr>\n",
       "    <tr>\n",
       "      <th>4</th>\n",
       "      <td>NW.HCA.FEMA.PC</td>\n",
       "      <td>Human capital per capita, female (constant 201...</td>\n",
       "      <td>Human capital is computed as the present value...</td>\n",
       "      <td>World Bank. 2021. The Changing Wealth of Natio...</td>\n",
       "      <td>Human capital</td>\n",
       "      <td>Constant 2018 US$</td>\n",
       "      <td>Annual</td>\n",
       "      <td>1995-2018</td>\n",
       "      <td>Total wealth is calculated by summing up estim...</td>\n",
       "    </tr>\n",
       "  </tbody>\n",
       "</table>\n",
       "</div>"
      ],
      "text/plain": [
       "      Series Code                                     Indicator Name  \\\n",
       "0       NW.HCA.TO                  Human capital (constant 2018 US$)   \n",
       "1       NW.HCA.PC       Human capital per capita (constant 2018 US$)   \n",
       "2  NW.HCA.FEMP.PC  Human capital per capita, employed female (con...   \n",
       "3  NW.HCA.MEMP.PC  Human capital per capita, employed male (const...   \n",
       "4  NW.HCA.FEMA.PC  Human capital per capita, female (constant 201...   \n",
       "\n",
       "                                     Long definition  \\\n",
       "0  Human capital is computed as the present value...   \n",
       "1  Human capital is computed as the present value...   \n",
       "2  Human capital is computed as the present value...   \n",
       "3  Human capital is computed as the present value...   \n",
       "4  Human capital is computed as the present value...   \n",
       "\n",
       "                                              Source          Topic  \\\n",
       "0  World Bank. 2021. The Changing Wealth of Natio...  Human capital   \n",
       "1  World Bank. 2021. The Changing Wealth of Natio...  Human capital   \n",
       "2  World Bank. 2021. The Changing Wealth of Natio...  Human capital   \n",
       "3  World Bank. 2021. The Changing Wealth of Natio...  Human capital   \n",
       "4  World Bank. 2021. The Changing Wealth of Natio...  Human capital   \n",
       "\n",
       "     Unit of measure Periodicity Reference period  \\\n",
       "0  Constant 2018 US$      Annual        1995-2018   \n",
       "1  Constant 2018 US$      Annual        1995-2018   \n",
       "2  Constant 2018 US$      Annual        1995-2018   \n",
       "3  Constant 2018 US$      Annual        1995-2018   \n",
       "4  Constant 2018 US$      Annual        1995-2018   \n",
       "\n",
       "                 Statistical concept and methodology  \n",
       "0  Total wealth is calculated by summing up estim...  \n",
       "1  Total wealth is calculated by summing up estim...  \n",
       "2  Total wealth is calculated by summing up estim...  \n",
       "3  Total wealth is calculated by summing up estim...  \n",
       "4  Total wealth is calculated by summing up estim...  "
      ]
     },
     "execution_count": 116,
     "metadata": {},
     "output_type": "execute_result"
    }
   ],
   "source": [
    "dfSe_clean.head()"
   ]
  },
  {
   "cell_type": "code",
   "execution_count": null,
   "id": "6cf7676c",
   "metadata": {
    "scrolled": false
   },
   "outputs": [],
   "source": [
    "dfmdg = pd.read_csv(\"data/mdgdata.csv\")\n",
    "dfmdg.head()"
   ]
  },
  {
   "cell_type": "code",
   "execution_count": null,
   "id": "665f873c",
   "metadata": {
    "scrolled": false
   },
   "outputs": [],
   "source": [
    "dfmdg.columns"
   ]
  },
  {
   "cell_type": "code",
   "execution_count": 108,
   "id": "fcd1f1b1",
   "metadata": {},
   "outputs": [],
   "source": [
    "selected_frame = dfmdg[['Country Name', 'Country Code', '1999 [YR1999]', '1993 [YR1993]']]"
   ]
  },
  {
   "cell_type": "code",
   "execution_count": null,
   "id": "702449f9",
   "metadata": {
    "scrolled": true
   },
   "outputs": [],
   "source": [
    "print(selected_frame.shape)\n",
    "dfmdg_clean = mask_frame.dropna()   #Remove NaN observations\n",
    "print(dfmdg_clean.shape)\n",
    "dfmdg_clean.head()"
   ]
  },
  {
   "cell_type": "code",
   "execution_count": 110,
   "id": "27b88d7e",
   "metadata": {
    "scrolled": true
   },
   "outputs": [
    {
     "name": "stdout",
     "output_type": "stream",
     "text": [
      "(34716, 4)\n",
      "(12771, 4)\n"
     ]
    },
    {
     "data": {
      "text/html": [
       "<div>\n",
       "<style scoped>\n",
       "    .dataframe tbody tr th:only-of-type {\n",
       "        vertical-align: middle;\n",
       "    }\n",
       "\n",
       "    .dataframe tbody tr th {\n",
       "        vertical-align: top;\n",
       "    }\n",
       "\n",
       "    .dataframe thead th {\n",
       "        text-align: right;\n",
       "    }\n",
       "</style>\n",
       "<table border=\"1\" class=\"dataframe\">\n",
       "  <thead>\n",
       "    <tr style=\"text-align: right;\">\n",
       "      <th></th>\n",
       "      <th>Country Name</th>\n",
       "      <th>Country Code</th>\n",
       "      <th>1999 [YR1999]</th>\n",
       "      <th>1993 [YR1993]</th>\n",
       "    </tr>\n",
       "  </thead>\n",
       "  <tbody>\n",
       "    <tr>\n",
       "      <th>3</th>\n",
       "      <td>Afghanistan</td>\n",
       "      <td>AFG</td>\n",
       "      <td>157.71</td>\n",
       "      <td>164.1888</td>\n",
       "    </tr>\n",
       "    <tr>\n",
       "      <th>23</th>\n",
       "      <td>Afghanistan</td>\n",
       "      <td>AFG</td>\n",
       "      <td>821.408</td>\n",
       "      <td>1345.789</td>\n",
       "    </tr>\n",
       "    <tr>\n",
       "      <th>24</th>\n",
       "      <td>Afghanistan</td>\n",
       "      <td>AFG</td>\n",
       "      <td>0.0423325971841624</td>\n",
       "      <td>0.0891540360218903</td>\n",
       "    </tr>\n",
       "    <tr>\n",
       "      <th>32</th>\n",
       "      <td>Afghanistan</td>\n",
       "      <td>AFG</td>\n",
       "      <td>69.4990005493164</td>\n",
       "      <td>60.9059982299805</td>\n",
       "    </tr>\n",
       "    <tr>\n",
       "      <th>33</th>\n",
       "      <td>Afghanistan</td>\n",
       "      <td>AFG</td>\n",
       "      <td>29.4969997406006</td>\n",
       "      <td>24.1599998474121</td>\n",
       "    </tr>\n",
       "  </tbody>\n",
       "</table>\n",
       "</div>"
      ],
      "text/plain": [
       "   Country Name Country Code       1999 [YR1999]       1993 [YR1993]\n",
       "3   Afghanistan          AFG              157.71            164.1888\n",
       "23  Afghanistan          AFG             821.408            1345.789\n",
       "24  Afghanistan          AFG  0.0423325971841624  0.0891540360218903\n",
       "32  Afghanistan          AFG    69.4990005493164    60.9059982299805\n",
       "33  Afghanistan          AFG    29.4969997406006    24.1599998474121"
      ]
     },
     "execution_count": 110,
     "metadata": {},
     "output_type": "execute_result"
    }
   ],
   "source": [
    "#Let's clean up this dataframe!!!\n",
    "print(dfmdg_clean.shape)\n",
    "for col in dfmdg_clean.columns:\n",
    "    dfmdg_clean = dfmdg_clean[dfmdg_clean[col].str.startswith('..') == False]\n",
    "\n",
    "print(dfmdg_clean.shape)\n",
    "dfmdg_clean.head()"
   ]
  },
  {
   "cell_type": "code",
   "execution_count": 206,
   "id": "b583a582",
   "metadata": {
    "scrolled": true
   },
   "outputs": [
    {
     "name": "stdout",
     "output_type": "stream",
     "text": [
      "Database connection successful!\n",
      "New database connection successful!\n"
     ]
    }
   ],
   "source": [
    "cur, conn = create_db()"
   ]
  },
  {
   "cell_type": "code",
   "execution_count": null,
   "id": "dadb76c1",
   "metadata": {
    "scrolled": true
   },
   "outputs": [],
   "source": [
    "cur.execute(\"DROP TABLE accountscountry\")\n",
    "conn.commit()\n",
    "print(\"done\")"
   ]
  },
  {
   "cell_type": "code",
   "execution_count": 180,
   "id": "1198d8ad",
   "metadata": {},
   "outputs": [],
   "source": [
    "#Let's Create first table (Account)\n",
    "\n",
    "ac_table_create = (\"\"\" CREATE TABLE IF NOT EXISTS accountscountry(\n",
    "id serial PRIMARY KEY,\n",
    "country_code VARCHAR,\n",
    "series_code VARCHAR,\n",
    "year_95 numeric,\n",
    "year_97 numeric,\n",
    "year_99 numeric\n",
    ")\"\"\")"
   ]
  },
  {
   "cell_type": "code",
   "execution_count": 181,
   "id": "0576dc7b",
   "metadata": {},
   "outputs": [
    {
     "name": "stdout",
     "output_type": "stream",
     "text": [
      "Table created successfully\n"
     ]
    }
   ],
   "source": [
    "#If this throws an error such as: \"postgresql current transaction is aborted, commands ignored until end of transaction block\", \n",
    "#then run these to close previous connections\n",
    "# cur.close()\n",
    "# conn.close()\n",
    "\n",
    "cur.execute(ac_table_create)\n",
    "conn.commit()\n",
    "print(\"Table created successfully\")"
   ]
  },
  {
   "cell_type": "code",
   "execution_count": 178,
   "id": "7351dc65",
   "metadata": {},
   "outputs": [
    {
     "name": "stdout",
     "output_type": "stream",
     "text": [
      "Table created successfully\n"
     ]
    }
   ],
   "source": [
    "#Now Series Table\n",
    "\n",
    "acseries_table_create = (\"\"\"CREATE TABLE IF NOT EXISTS seriesdata(\n",
    "series_code VARCHAR,\n",
    "indicator_name VARCHAR,\n",
    "long_definition VARCHAR,\n",
    "source VARCHAR,\n",
    "topic VARCHAR,\n",
    "unit_of_measure VARCHAR,\n",
    "periodicity VARCHAR,\n",
    "reference_peoriod VARCHAR,\n",
    "stat_concept VARCHAR\n",
    ")\"\"\")\n",
    "\n",
    "cur.execute(acseries_table_create)\n",
    "conn.commit()\n",
    "print(\"Table created successfully\")"
   ]
  },
  {
   "cell_type": "code",
   "execution_count": 179,
   "id": "771685bd",
   "metadata": {},
   "outputs": [
    {
     "name": "stdout",
     "output_type": "stream",
     "text": [
      "Table created successfully\n"
     ]
    }
   ],
   "source": [
    "#Now MDG Table\n",
    "acmdg_table_create = (\"\"\"CREATE TABLE IF NOT EXISTS mdgdata(\n",
    "country_name VARCHAR,\n",
    "country_code VARCHAR,\n",
    "year_99 numeric,\n",
    "year_93 numeric\n",
    ")\"\"\")\n",
    "cur.execute(acmdg_table_create)\n",
    "conn.commit()\n",
    "print(\"Table created successfully\")"
   ]
  },
  {
   "cell_type": "code",
   "execution_count": 224,
   "id": "2ec3d01a",
   "metadata": {},
   "outputs": [
    {
     "name": "stdout",
     "output_type": "stream",
     "text": [
      "Database connection successful!\n",
      "New database connection successful!\n"
     ]
    }
   ],
   "source": [
    "cur.close()\n",
    "conn.close()\n",
    "cur, conn = create_db()"
   ]
  },
  {
   "cell_type": "markdown",
   "id": "f1993910",
   "metadata": {},
   "source": [
    "### Time to insert data into the tables"
   ]
  },
  {
   "cell_type": "code",
   "execution_count": 211,
   "id": "f50e5a3c",
   "metadata": {},
   "outputs": [],
   "source": [
    "ac_table_insert = (\"\"\" INSERT INTO accountscountry(\n",
    "country_code,\n",
    "series_code,\n",
    "year_95,\n",
    "year_97,\n",
    "year_99)\n",
    "VALUES (%s, %s, %s, %s, %s)\n",
    "\"\"\")"
   ]
  },
  {
   "cell_type": "code",
   "execution_count": 229,
   "id": "6ecb1ebf",
   "metadata": {},
   "outputs": [
    {
     "name": "stdout",
     "output_type": "stream",
     "text": [
      "Items entered successfully.\n"
     ]
    }
   ],
   "source": [
    "#Now loop through the dataframe and insert all data\n",
    "\n",
    "for i, row in dfAC_clean.iterrows():\n",
    "    cur.execute(ac_table_insert, list(row))\n",
    "conn.commit()\n",
    "print(\"Items entered successfully.\")"
   ]
  },
  {
   "cell_type": "code",
   "execution_count": 223,
   "id": "d7d8642e",
   "metadata": {},
   "outputs": [],
   "source": [
    "acseries_table_insert = (\"\"\"INSERT INTO seriesdata(\n",
    "series_code,\n",
    "indicator_name,\n",
    "long_definition,\n",
    "source,\n",
    "topic,\n",
    "unit_of_measure,\n",
    "periodicity,\n",
    "reference_peoriod,\n",
    "stat_concept)\n",
    "VALUES (%s, %s, %s, %s, %s, %s, %s, %s, %s)\n",
    "\"\"\")"
   ]
  },
  {
   "cell_type": "code",
   "execution_count": 225,
   "id": "9b3c10b7",
   "metadata": {},
   "outputs": [
    {
     "name": "stdout",
     "output_type": "stream",
     "text": [
      "Items entered successfully.\n"
     ]
    }
   ],
   "source": [
    "for i, row in dfSe_clean.iterrows():\n",
    "    cur.execute(acseries_table_insert, list(row))\n",
    "conn.commit()\n",
    "print(\"Items entered successfully.\")"
   ]
  },
  {
   "cell_type": "code",
   "execution_count": 226,
   "id": "b236157c",
   "metadata": {},
   "outputs": [],
   "source": [
    "acmdg_table_insert = (\"\"\"INSERT INTO mdgdata(\n",
    "country_name,\n",
    "country_code,\n",
    "year_99,\n",
    "year_93)\n",
    "VALUES (%s, %s, %s, %s)\n",
    "\"\"\")"
   ]
  },
  {
   "cell_type": "code",
   "execution_count": 227,
   "id": "32b92f73",
   "metadata": {
    "scrolled": true
   },
   "outputs": [
    {
     "name": "stdout",
     "output_type": "stream",
     "text": [
      "Items entered successfully.\n"
     ]
    }
   ],
   "source": [
    "for i, row in dfmdg_clean.iterrows():\n",
    "    cur.execute(acmdg_table_insert, list(row))\n",
    "conn.commit()\n",
    "print(\"Items entered successfully.\")"
   ]
  },
  {
   "cell_type": "code",
   "execution_count": 228,
   "id": "bfe42538",
   "metadata": {},
   "outputs": [],
   "source": [
    "conn.close()"
   ]
  }
 ],
 "metadata": {
  "kernelspec": {
   "display_name": "Python 3",
   "language": "python",
   "name": "python3"
  },
  "language_info": {
   "codemirror_mode": {
    "name": "ipython",
    "version": 3
   },
   "file_extension": ".py",
   "mimetype": "text/x-python",
   "name": "python",
   "nbconvert_exporter": "python",
   "pygments_lexer": "ipython3",
   "version": "3.7.6"
  }
 },
 "nbformat": 4,
 "nbformat_minor": 5
}
